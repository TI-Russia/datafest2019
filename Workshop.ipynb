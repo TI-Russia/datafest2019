{
 "cells": [
  {
   "cell_type": "markdown",
   "metadata": {},
   "source": [
    "## Repository\n",
    "# https://github.com/TI-Russia/datafest2019"
   ]
  },
  {
   "cell_type": "code",
   "execution_count": 1,
   "metadata": {},
   "outputs": [],
   "source": [
    "import requests\n",
    "import pandas as pd\n",
    "import json\n",
    "import re\n",
    "from bs4 import BeautifulSoup as bs"
   ]
  },
  {
   "cell_type": "code",
   "execution_count": null,
   "metadata": {},
   "outputs": [],
   "source": [
    "def get_json(url):\n",
    "\n",
    "    r = requests.get(url)\n",
    "    data = json.loads(r.text)\n",
    "\n",
    "    return data\n",
    "\n",
    "\n",
    "def getstate(x, regions_matches):\n",
    "    match = re.search(r'(?:ქ\\.|\\s)*('+'|'.join(regions_matches.keys())+')\\s*,*', x)\n",
    "\n",
    "    if match:\n",
    "\n",
    "        return regions_matches[match.group(1).strip()]"
   ]
  },
  {
   "cell_type": "markdown",
   "metadata": {},
   "source": [
    "## Regions names\n",
    "# http://shorturl.at/foBS8\n",
    "\n",
    "## Regions matches\n",
    "# http://shorturl.at/yGIN0"
   ]
  },
  {
   "cell_type": "markdown",
   "metadata": {},
   "source": [
    "    regions_names_url = 'http://shorturl.at/foBS8'\n",
    "    regions_matches_url = 'http://shorturl.at/yGIN0'\n",
    "\n",
    "    regions_names = get_json(regions_names_url)\n",
    "    regions_matches = get_json(regions_matches_url)"
   ]
  },
  {
   "cell_type": "markdown",
   "metadata": {},
   "source": [
    "    r = requests.get('https://en.wikipedia.org/wiki/List_of_cities_and_towns_in_Georgia_(country)')\n",
    "    municipality = pd.read_html(r.text)[0]\n",
    "\n",
    "    municipality = municipality[['Name in Georgian','Administrative Region']]\n",
    "    municipality.set_index('Name in Georgian', inplace=True)\n",
    "    json.loads(municipality.to_json(force_ascii=False, orient='columns'))['Administrative Region']"
   ]
  },
  {
   "cell_type": "markdown",
   "metadata": {},
   "source": [
    "## Data\n",
    "# http://shorturl.at/fAZ69"
   ]
  },
  {
   "cell_type": "markdown",
   "metadata": {},
   "source": [
    "    data = json.loads(open('/Users/schtsch/Desktop/Georgian_Declarations/2018/2018_dcl_done_data.json').read())"
   ]
  },
  {
   "cell_type": "markdown",
   "metadata": {},
   "source": [
    "    DF = pd.DataFrame()\n",
    "\n",
    "    for d in data:\n",
    "        p = d.get('purchase', None)\n",
    "        if p:\n",
    "            df = pd.DataFrame(p)\n",
    "            DF = DF.append(df)"
   ]
  },
  {
   "cell_type": "markdown",
   "metadata": {},
   "source": [
    "    DF.loc[:,'region'] = DF.location_area.apply(getstate, args=(regions_matches,))"
   ]
  },
  {
   "cell_type": "markdown",
   "metadata": {},
   "source": [
    "    df = DF.groupby('region').size()"
   ]
  },
  {
   "cell_type": "markdown",
   "metadata": {},
   "source": [
    "    count_data = pd.DataFrame(df)\n",
    "    count_data.loc[:,'name_en'] = count_data.index"
   ]
  },
  {
   "cell_type": "markdown",
   "metadata": {},
   "source": [
    "    done_table = pd.merge(count_data, pd.DataFrame(regions_names), on='name_en')"
   ]
  },
  {
   "cell_type": "markdown",
   "metadata": {},
   "source": [
    "    done_table.to_csv('/Users/schtsch/Desktop/Georgian_Declarations/2018/', index=False)"
   ]
  }
 ],
 "metadata": {
  "kernelspec": {
   "display_name": "Python 3",
   "language": "python",
   "name": "python3"
  },
  "language_info": {
   "codemirror_mode": {
    "name": "ipython",
    "version": 3
   },
   "file_extension": ".py",
   "mimetype": "text/x-python",
   "name": "python",
   "nbconvert_exporter": "python",
   "pygments_lexer": "ipython3",
   "version": "3.7.3"
  }
 },
 "nbformat": 4,
 "nbformat_minor": 2
}
